{
  "nbformat": 4,
  "nbformat_minor": 0,
  "metadata": {
    "colab": {
      "provenance": [],
      "authorship_tag": "ABX9TyNY9FSv1dr05Z8joHHgbij7",
      "include_colab_link": true
    },
    "kernelspec": {
      "name": "python3",
      "display_name": "Python 3"
    },
    "language_info": {
      "name": "python"
    }
  },
  "cells": [
    {
      "cell_type": "markdown",
      "metadata": {
        "id": "view-in-github",
        "colab_type": "text"
      },
      "source": [
        "<a href=\"https://colab.research.google.com/github/221230055/Wega-ramadhan-Pengantar-ML/blob/main/PRAKTIKUM1_LIST_DAN_DICTIONARY.ipynb\" target=\"_parent\"><img src=\"https://colab.research.google.com/assets/colab-badge.svg\" alt=\"Open In Colab\"/></a>"
      ]
    },
    {
      "cell_type": "code",
      "execution_count": 3,
      "metadata": {
        "colab": {
          "base_uri": "https://localhost:8080/"
        },
        "id": "3IXqBSMgFVJl",
        "outputId": "a606f65e-468e-43a4-f3c6-2f8d0745ee4f"
      },
      "outputs": [
        {
          "output_type": "stream",
          "name": "stdout",
          "text": [
            "Raw data: [23.5, 24.1, 22.8, 25.3, 21.9, 26.7, 20.5, 24.8, 23.2, 25.9]\n",
            "Filtered data (22-25): [23.5, 24.1, 22.8, 24.8, 23.2]\n",
            "Normalized data: [0.484, 0.581, 0.371, 0.774, 0.226, 1.0, 0.0, 0.694, 0.435, 0.871]\n",
            "Moving average (window=3): [23.467, 24.067, 23.333, 24.633, 23.033, 24.0, 22.833, 24.633]\n"
          ]
        }
      ],
      "source": [
        "# Data mentah dari sensor\n",
        "raw_data = [23.5, 24.1, 22.8, 25.3, 21.9, 26.7, 20.5, 24.8, 23.2, 25.9]\n",
        "\n",
        "#Filter data yang berada di range 22-25 derajat\n",
        "filtered_data = list(filter(lambda x: 22 <= x <= 25, raw_data))\n",
        "\n",
        "#Normalisasi data ke range 0-1 menggunakan min-max scaling\n",
        "min_val, max_val = min(raw_data), max(raw_data)\n",
        "normalized_data = [(x - min_val) / (max_val - min_val) for x in raw_data]\n",
        "\n",
        "#Hitung moving average dengan window size 3 (pakai list comprehension)\n",
        "def moving_average(data, window_size):\n",
        "    return [\n",
        "        sum(data[i:i + window_size]) / window_size\n",
        "        for i in range(len(data) - window_size + 1)\n",
        "    ]\n",
        "\n",
        "ma_result = moving_average(raw_data, 3)\n",
        "\n",
        "# Output\n",
        "print(\"Raw data:\", raw_data)\n",
        "print(\"Filtered data (22-25):\", filtered_data)\n",
        "print(\"Normalized data:\", [round(x, 3) for x in normalized_data])\n",
        "print(\"Moving average (window=3):\", [round(x, 3) for x in ma_result])\n"
      ]
    },
    {
      "cell_type": "code",
      "source": [
        "# Dataset sample untuk klasifikasi\n",
        "dataset = [\n",
        "    {'features': [1.2, 3.4, 2.1], 'label': 'class_A'},\n",
        "    {'features': [2.3, 1.5, 4.2], 'label': 'class_B'},\n",
        "    {'features': [3.1, 2.8, 1.9], 'label': 'class_A'},\n",
        "    {'features': [4.2, 3.9, 2.5], 'label': 'class_B'}\n",
        "]\n",
        "\n",
        "#Kelompokkan data berdasarkan label\n",
        "def group_by_label(data):\n",
        "    grouped = {}\n",
        "    for item in data:\n",
        "        label = item['label']\n",
        "        features = item['features']\n",
        "        if label not in grouped:\n",
        "            grouped[label] = []\n",
        "        grouped[label].append(features)\n",
        "    return grouped\n",
        "\n",
        "grouped_data = group_by_label(dataset)\n",
        "\n",
        "#Hitung rata-rata features per kelas\n",
        "def average_features_per_class(grouped_data):\n",
        "    averages = {}\n",
        "    for label, features_list in grouped_data.items():\n",
        "        # Convert to numpy-like calculation using zip\n",
        "        n_features = len(features_list[0])\n",
        "        sums = [0] * n_features\n",
        "        for features in features_list:\n",
        "            for i, val in enumerate(features):\n",
        "                sums[i] += val\n",
        "        averages[label] = [s / len(features_list) for s in sums]\n",
        "    return averages\n",
        "\n",
        "avg_features = average_features_per_class(grouped_data)\n",
        "\n",
        "print(\"\\nGrouped data by label:\")\n",
        "for label, features in grouped_data.items():\n",
        "    print(f\"{label}: {features}\")\n",
        "\n",
        "print(\"\\nAverage features per class:\")\n",
        "for label, avg in avg_features.items():\n",
        "    print(f\"{label}: {[round(x, 3) for x in avg]}\")\n",
        "\n",
        "# TEST ASSERTIONS\n",
        "assert len(filtered_data) <= len(raw_data), \"Filtered data should not be longer\"\n",
        "assert all(0 <= x <= 1 for x in normalized_data), \"Normalized data should be 0-1\"\n",
        "assert 'class_A' in grouped_data, \"Should contain class_A\"\n",
        "assert 'class_B' in grouped_data, \"Should contain class_B\"\n",
        "\n",
        "print(\"\\n✅ Semua assertions berhasil! Solusi benar.\")"
      ],
      "metadata": {
        "colab": {
          "base_uri": "https://localhost:8080/"
        },
        "id": "ObyHoZb9GRUl",
        "outputId": "6a69aff9-b94b-4c6e-be35-e13499081630"
      },
      "execution_count": 4,
      "outputs": [
        {
          "output_type": "stream",
          "name": "stdout",
          "text": [
            "\n",
            "Grouped data by label:\n",
            "class_A: [[1.2, 3.4, 2.1], [3.1, 2.8, 1.9]]\n",
            "class_B: [[2.3, 1.5, 4.2], [4.2, 3.9, 2.5]]\n",
            "\n",
            "Average features per class:\n",
            "class_A: [2.15, 3.1, 2.0]\n",
            "class_B: [3.25, 2.7, 3.35]\n",
            "\n",
            "✅ Semua assertions berhasil! Solusi benar.\n"
          ]
        }
      ]
    }
  ]
}